{
 "cells": [
  {
   "cell_type": "code",
   "execution_count": 1,
   "metadata": {},
   "outputs": [
    {
     "name": "stdout",
     "output_type": "stream",
     "text": [
      "Le model knn a été chargé avec succées\n"
     ]
    }
   ],
   "source": [
    "# chargement du modele knn et naive bayes \n",
    "import pickle \n",
    "knn_model = pickle.load(open(\"knn_model.pkl\" , \"rb\"))\n",
    "print(\"Le model knn a été chargé avec succées\")\n"
   ]
  },
  {
   "cell_type": "code",
   "execution_count": 4,
   "metadata": {},
   "outputs": [
    {
     "name": "stdout",
     "output_type": "stream",
     "text": [
      " liste de nouveaux exemples \n",
      "[[3, 5, 4, 2], [2, 3, 5, 4], [2.5, 1.3, 3.5, 4.0]]\n",
      "['versicolor' 'virginica' 'versicolor']\n"
     ]
    },
    {
     "name": "stderr",
     "output_type": "stream",
     "text": [
      "c:\\Users\\USER\\AppData\\Local\\Programs\\Python\\Python311\\Lib\\site-packages\\sklearn\\base.py:493: UserWarning: X does not have valid feature names, but KNeighborsClassifier was fitted with feature names\n",
      "  warnings.warn(\n"
     ]
    }
   ],
   "source": [
    "x_new= [[3,5,4,2] ,[2,3,5,4],[2.5,1.3,3.5,4.0]]\n",
    "print(\" liste de nouveaux exemples \")\n",
    "print(x_new)\n",
    "# prediciton du modele KNN poour les nouveaux exemples \n",
    "y_new = knn_model.predict(x_new)\n",
    "print(y_new)"
   ]
  }
 ],
 "metadata": {
  "kernelspec": {
   "display_name": "Python 3",
   "language": "python",
   "name": "python3"
  },
  "language_info": {
   "codemirror_mode": {
    "name": "ipython",
    "version": 3
   },
   "file_extension": ".py",
   "mimetype": "text/x-python",
   "name": "python",
   "nbconvert_exporter": "python",
   "pygments_lexer": "ipython3",
   "version": "3.11.8"
  }
 },
 "nbformat": 4,
 "nbformat_minor": 2
}
