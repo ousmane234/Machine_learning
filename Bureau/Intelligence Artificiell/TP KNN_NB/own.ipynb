{
 "cells": [
  {
   "cell_type": "code",
   "execution_count": 3,
   "metadata": {},
   "outputs": [
    {
     "name": "stdout",
     "output_type": "stream",
     "text": [
      "precission de la prediction :40.0% \n"
     ]
    }
   ],
   "source": [
    "from sklearn.metrics import accuracy_score , confusion_matrix\n",
    "y_relle = [1, 0 ,9 ,4,3]\n",
    "y_predict=[1,1,8,3,3]\n",
    "score =accuracy_score(y_pred = y_predict, y_true = y_relle)\n",
    "print(f\"precission de la prediction :{ score*100}% \")\n",
    "print(f\"matrice de confusion : {confusion_matrix(y_pred= y_predict , y_true = y_relle)}\")"
   ]
  }
 ],
 "metadata": {
  "kernelspec": {
   "display_name": "Python 3",
   "language": "python",
   "name": "python3"
  },
  "language_info": {
   "codemirror_mode": {
    "name": "ipython",
    "version": 3
   },
   "file_extension": ".py",
   "mimetype": "text/x-python",
   "name": "python",
   "nbconvert_exporter": "python",
   "pygments_lexer": "ipython3",
   "version": "3.11.8"
  }
 },
 "nbformat": 4,
 "nbformat_minor": 2
}
